{
 "cells": [
  {
   "cell_type": "code",
   "execution_count": 1,
   "metadata": {},
   "outputs": [],
   "source": [
    "import numpy as np"
   ]
  },
  {
   "cell_type": "code",
   "execution_count": 212,
   "metadata": {},
   "outputs": [],
   "source": [
    "# initial chromosome\n",
    "def generate_init_gene_table(num,mx):\n",
    "    gene_table = []\n",
    "    for i in range(num):\n",
    "        arr = np.arange(1,mx)\n",
    "        np.random.shuffle(arr)\n",
    "        gene_table.append(arr)\n",
    "    gene_table = np.array(gene_table)\n",
    "    return gene_table\n",
    "\n",
    "# fit score calculate\n",
    "def fitscore(chrom):\n",
    "    den = 0\n",
    "    den += label[0,chrom[0]]\n",
    "    for i in range(len(chrom)-1):\n",
    "        \n",
    "        den += label[chrom[i],chrom[i+1]]\n",
    "    den += label[0,chrom[-1]]\n",
    "    return (1000/den)*(1000/den)\n",
    "\n",
    "# probability calculate\n",
    "def cal_prob(gene_table):\n",
    "    prob = []\n",
    "    for chrom in gene_table:\n",
    "        prob.append(fitscore(chrom))\n",
    "    fit_sum = sum(prob)\n",
    "    prob = [x / fit_sum for x in prob]\n",
    "    return prob\n",
    "\n",
    "#selection chrom using prob_table\n",
    "def selection(gene_table,selec_num):\n",
    "    prob_table = cal_prob(gene_table)\n",
    "    selected_chrom = []\n",
    "    for i in range(selec_num):\n",
    "        unit = np.random.uniform(low=0.0, high=1.0)\n",
    "        prob_sum = 0\n",
    "        for i,prob in enumerate(prob_table):\n",
    "            prob_sum += prob\n",
    "            if prob_sum>unit:\n",
    "                selected_chrom.append(i)\n",
    "                break\n",
    "    return selected_chrom\n",
    "\n",
    "#mutation\n",
    "def exchange(new_gene):\n",
    "    arr = np.arange(0,4)\n",
    "    np.random.shuffle(arr)\n",
    "    temp             = new_gene[arr[0]]\n",
    "    new_gene[arr[0]] = new_gene[arr[1]]\n",
    "    new_gene[arr[1]] = temp\n",
    "    \n",
    "    return new_gene\n",
    "\n",
    "#make new gene\n",
    "def cross_over(gene_table, selected_chrom):\n",
    "    gene1    = gene_table[selected_chrom[0]]\n",
    "    gene2    = gene_table[selected_chrom[1]]\n",
    "    div     = np.random.randint(1,4)\n",
    "    \n",
    "    temp1=list(gene_test1[:div])\n",
    "    temp2 = list(gene_test2)\n",
    "    for i in range(len(temp1)):\n",
    "        temp2.remove(temp1[i])\n",
    "    new_gene = np.array(temp1 + temp2)\n",
    "    \n",
    "    if np.random.uniform(low=0.0, high=1.0) < 0.05:\n",
    "        new_gene = exchange(new_gene)\n",
    "    \n",
    "    return new_gene\n",
    "\n",
    "#find the minimum fitscore and the index\n",
    "def min_fitscore(gene_table):\n",
    "    fit_min = 1000000\n",
    "    idx = 0\n",
    "    for idx,data in enumerate(gene_table):\n",
    "        if fitscore(data)<fit_min:\n",
    "            fit_min = fitscore(data)\n",
    "            fit_idx = idx\n",
    "    return fit_idx, gene_table[fit_idx]"
   ]
  },
  {
   "cell_type": "code",
   "execution_count": 319,
   "metadata": {},
   "outputs": [],
   "source": [
    "# distance of each cities\n",
    "label = np.array([[0.0, 5.0, 6.4, 20.0 , 11.4],\n",
    "                  [5.0, 0.0, 14.0, 37.08, 9.22],\n",
    "                  [6.4, 14.0, 0.0, 51.97, 13.15],\n",
    "                  [20.0, 37.08, 51.97, 0.0, 61.07],\n",
    "                  [11.4, 9.22, 13.15, 61.07, 0.0]])\n",
    "\n",
    "gene_table = generate_init_gene_table(4,5)"
   ]
  },
  {
   "cell_type": "code",
   "execution_count": 320,
   "metadata": {},
   "outputs": [],
   "source": [
    "for i in range(1500):\n",
    "    selected_chrom = selection(gene_table,2)\n",
    "    new = cross_over(gene_table,selected_chrom)\n",
    "\n",
    "    idx, min_chrom = min_fitscore(gene_table)\n",
    "    if fitscore(new) > fitscore(min_chrom):\n",
    "        gene_table[idx] = new"
   ]
  },
  {
   "cell_type": "code",
   "execution_count": 321,
   "metadata": {},
   "outputs": [
    {
     "name": "stdout",
     "output_type": "stream",
     "text": [
      "135.68111410476413\n",
      "135.68111410476413\n",
      "135.68111410476413\n",
      "135.68111410476413\n"
     ]
    }
   ],
   "source": [
    "for i in gene_table:\n",
    "    print(fitscore(i))"
   ]
  }
 ],
 "metadata": {
  "kernelspec": {
   "display_name": "Python 3",
   "language": "python",
   "name": "python3"
  },
  "language_info": {
   "codemirror_mode": {
    "name": "ipython",
    "version": 3
   },
   "file_extension": ".py",
   "mimetype": "text/x-python",
   "name": "python",
   "nbconvert_exporter": "python",
   "pygments_lexer": "ipython3",
   "version": "3.8.5"
  }
 },
 "nbformat": 4,
 "nbformat_minor": 4
}
